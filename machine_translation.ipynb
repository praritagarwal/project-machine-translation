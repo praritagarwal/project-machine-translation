{
 "cells": [
  {
   "cell_type": "markdown",
   "metadata": {
    "collapsed": true
   },
   "source": [
    "# Artificial Intelligence Nanodegree\n",
    "## Machine Translation Project\n",
    "In this notebook, sections that end with **'(IMPLEMENTATION)'** in the header indicate that the following blocks of code will require additional functionality which you must provide. Please be sure to read the instructions carefully!\n",
    "\n",
    "## Introduction\n",
    "In this notebook, you will build a deep neural network that functions as part of an end-to-end machine translation pipeline. Your completed pipeline will accept English text as input and return the French translation.\n",
    "\n",
    "- **Preprocess** - You'll convert text to sequence of integers.\n",
    "- **Models** Create models which accepts a sequence of integers as input and returns a probability distribution over possible translations. After learning about the basic types of neural networks that are often used for machine translation, you will engage in your own investigations, to design your own model!\n",
    "- **Prediction** Run the model on English text."
   ]
  },
  {
   "cell_type": "code",
   "execution_count": 1,
   "metadata": {},
   "outputs": [],
   "source": [
    "%load_ext autoreload\n",
    "%aimport helper, tests\n",
    "%autoreload 1"
   ]
  },
  {
   "cell_type": "code",
   "execution_count": 2,
   "metadata": {},
   "outputs": [
    {
     "name": "stderr",
     "output_type": "stream",
     "text": [
      "Using TensorFlow backend.\n"
     ]
    },
    {
     "name": "stdout",
     "output_type": "stream",
     "text": [
      "tensorflow version: 1.15.0\n",
      "keras version: 2.0.9\n"
     ]
    }
   ],
   "source": [
    "import keras\n",
    "import tensorflow\n",
    "print('tensorflow version: {}'.format(tensorflow.__version__))\n",
    "print('keras version: {}'.format(keras.__version__))"
   ]
  },
  {
   "cell_type": "code",
   "execution_count": 3,
   "metadata": {},
   "outputs": [],
   "source": [
    "import collections\n",
    "\n",
    "import helper\n",
    "import numpy as np\n",
    "import project_tests as tests\n",
    "\n",
    "from keras.preprocessing.text import Tokenizer\n",
    "from keras.preprocessing.sequence import pad_sequences\n",
    "from keras.models import Model\n",
    "from keras.layers import GRU, Input, Dense, TimeDistributed, Activation, RepeatVector, Bidirectional\n",
    "from keras.layers.embeddings import Embedding\n",
    "from keras.optimizers import Adam\n",
    "from keras.losses import sparse_categorical_crossentropy"
   ]
  },
  {
   "cell_type": "markdown",
   "metadata": {},
   "source": [
    "### Verify access to the GPU\n",
    "The following test applies only if you expect to be using a GPU, e.g., while running in a Udacity Workspace or using an AWS instance with GPU support. Run the next cell, and verify that the device_type is \"GPU\".\n",
    "- If the device is not GPU & you are running from a Udacity Workspace, then save your workspace with the icon at the top, then click \"enable\" at the bottom of the workspace.\n",
    "- If the device is not GPU & you are running from an AWS instance, then refer to the cloud computing instructions in the classroom to verify your setup steps."
   ]
  },
  {
   "cell_type": "code",
   "execution_count": 4,
   "metadata": {},
   "outputs": [
    {
     "name": "stdout",
     "output_type": "stream",
     "text": [
      "[name: \"/device:CPU:0\"\n",
      "device_type: \"CPU\"\n",
      "memory_limit: 268435456\n",
      "locality {\n",
      "}\n",
      "incarnation: 7800133315947393566\n",
      ", name: \"/device:XLA_CPU:0\"\n",
      "device_type: \"XLA_CPU\"\n",
      "memory_limit: 17179869184\n",
      "locality {\n",
      "}\n",
      "incarnation: 7313188906160029653\n",
      "physical_device_desc: \"device: XLA_CPU device\"\n",
      ", name: \"/device:XLA_GPU:0\"\n",
      "device_type: \"XLA_GPU\"\n",
      "memory_limit: 17179869184\n",
      "locality {\n",
      "}\n",
      "incarnation: 5733359020052250468\n",
      "physical_device_desc: \"device: XLA_GPU device\"\n",
      "]\n"
     ]
    }
   ],
   "source": [
    "from tensorflow.python.client import device_lib\n",
    "print(device_lib.list_local_devices())"
   ]
  },
  {
   "cell_type": "markdown",
   "metadata": {},
   "source": [
    "## Dataset\n",
    "We begin by investigating the dataset that will be used to train and evaluate your pipeline.  The most common datasets used for machine translation are from [WMT](http://www.statmt.org/).  However, that will take a long time to train a neural network on.  We'll be using a dataset we created for this project that contains a small vocabulary.  You'll be able to train your model in a reasonable time with this dataset.\n",
    "### Load Data\n",
    "The data is located in `data/small_vocab_en` and `data/small_vocab_fr`. The `small_vocab_en` file contains English sentences with their French translations in the `small_vocab_fr` file. Load the English and French data from these files from running the cell below."
   ]
  },
  {
   "cell_type": "code",
   "execution_count": 5,
   "metadata": {},
   "outputs": [
    {
     "name": "stdout",
     "output_type": "stream",
     "text": [
      "Dataset Loaded\n"
     ]
    }
   ],
   "source": [
    "# Load English data\n",
    "english_sentences = helper.load_data('data/small_vocab_en')\n",
    "# Load French data\n",
    "french_sentences = helper.load_data('data/small_vocab_fr')\n",
    "\n",
    "print('Dataset Loaded')"
   ]
  },
  {
   "cell_type": "markdown",
   "metadata": {},
   "source": [
    "### Files\n",
    "Each line in `small_vocab_en` contains an English sentence with the respective translation in each line of `small_vocab_fr`.  View the first two lines from each file."
   ]
  },
  {
   "cell_type": "code",
   "execution_count": 6,
   "metadata": {},
   "outputs": [
    {
     "name": "stdout",
     "output_type": "stream",
     "text": [
      "small_vocab_en Line 1:  new jersey is sometimes quiet during autumn , and it is snowy in april .\n",
      "small_vocab_fr Line 1:  new jersey est parfois calme pendant l' automne , et il est neigeux en avril .\n",
      "small_vocab_en Line 2:  the united states is usually chilly during july , and it is usually freezing in november .\n",
      "small_vocab_fr Line 2:  les états-unis est généralement froid en juillet , et il gèle habituellement en novembre .\n"
     ]
    }
   ],
   "source": [
    "for sample_i in range(2):\n",
    "    print('small_vocab_en Line {}:  {}'.format(sample_i + 1, english_sentences[sample_i]))\n",
    "    print('small_vocab_fr Line {}:  {}'.format(sample_i + 1, french_sentences[sample_i]))"
   ]
  },
  {
   "cell_type": "markdown",
   "metadata": {},
   "source": [
    "From looking at the sentences, you can see they have been preprocessed already.  The puncuations have been delimited using spaces. All the text have been converted to lowercase.  This should save you some time, but the text requires more preprocessing.\n",
    "### Vocabulary\n",
    "The complexity of the problem is determined by the complexity of the vocabulary.  A more complex vocabulary is a more complex problem.  Let's look at the complexity of the dataset we'll be working with."
   ]
  },
  {
   "cell_type": "code",
   "execution_count": 7,
   "metadata": {},
   "outputs": [
    {
     "name": "stdout",
     "output_type": "stream",
     "text": [
      "1823250 English words.\n",
      "227 unique English words.\n",
      "10 Most common words in the English dataset:\n",
      "\"is\" \",\" \".\" \"in\" \"it\" \"during\" \"the\" \"but\" \"and\" \"sometimes\"\n",
      "\n",
      "1961295 French words.\n",
      "355 unique French words.\n",
      "10 Most common words in the French dataset:\n",
      "\"est\" \".\" \",\" \"en\" \"il\" \"les\" \"mais\" \"et\" \"la\" \"parfois\"\n"
     ]
    }
   ],
   "source": [
    "english_words_counter = collections.Counter([word for sentence in english_sentences for word in sentence.split()])\n",
    "french_words_counter = collections.Counter([word for sentence in french_sentences for word in sentence.split()])\n",
    "\n",
    "print('{} English words.'.format(len([word for sentence in english_sentences for word in sentence.split()])))\n",
    "print('{} unique English words.'.format(len(english_words_counter)))\n",
    "print('10 Most common words in the English dataset:')\n",
    "print('\"' + '\" \"'.join(list(zip(*english_words_counter.most_common(10)))[0]) + '\"')\n",
    "print()\n",
    "print('{} French words.'.format(len([word for sentence in french_sentences for word in sentence.split()])))\n",
    "print('{} unique French words.'.format(len(french_words_counter)))\n",
    "print('10 Most common words in the French dataset:')\n",
    "print('\"' + '\" \"'.join(list(zip(*french_words_counter.most_common(10)))[0]) + '\"')"
   ]
  },
  {
   "cell_type": "markdown",
   "metadata": {},
   "source": [
    "For comparison, _Alice's Adventures in Wonderland_ contains 2,766 unique words of a total of 15,500 words.\n",
    "## Preprocess\n",
    "For this project, you won't use text data as input to your model. Instead, you'll convert the text into sequences of integers using the following preprocess methods:\n",
    "1. Tokenize the words into ids\n",
    "2. Add padding to make all the sequences the same length.\n",
    "\n",
    "Time to start preprocessing the data...\n",
    "### Tokenize (IMPLEMENTATION)\n",
    "For a neural network to predict on text data, it first has to be turned into data it can understand. Text data like \"dog\" is a sequence of ASCII character encodings.  Since a neural network is a series of multiplication and addition operations, the input data needs to be number(s).\n",
    "\n",
    "We can turn each character into a number or each word into a number.  These are called character and word ids, respectively.  Character ids are used for character level models that generate text predictions for each character.  A word level model uses word ids that generate text predictions for each word.  Word level models tend to learn better, since they are lower in complexity, so we'll use those.\n",
    "\n",
    "Turn each sentence into a sequence of words ids using Keras's [`Tokenizer`](https://keras.io/preprocessing/text/#tokenizer) function. Use this function to tokenize `english_sentences` and `french_sentences` in the cell below.\n",
    "\n",
    "Running the cell will run `tokenize` on sample data and show output for debugging."
   ]
  },
  {
   "cell_type": "code",
   "execution_count": 8,
   "metadata": {},
   "outputs": [
    {
     "name": "stdout",
     "output_type": "stream",
     "text": [
      "{'.': 1, 'the': 2, 'quick': 3, 'a': 4, 'brown': 5, 'fox': 6, 'jumps': 7, 'over': 8, 'lazy': 9, 'dog': 10, 'by': 11, 'jove': 12, ',': 13, 'my': 14, 'study': 15, 'of': 16, 'lexicography': 17, 'won': 18, 'prize': 19, 'this': 20, 'is': 21, 'short': 22, 'sentence': 23}\n",
      "\n",
      "Sequence 1 in x\n",
      "  Input:  The quick brown fox jumps over the lazy dog .\n",
      "  Output: [2, 3, 5, 6, 7, 8, 2, 9, 10, 1]\n",
      "Sequence 2 in x\n",
      "  Input:  By Jove , my quick study of lexicography won a prize .\n",
      "  Output: [11, 12, 13, 14, 3, 15, 16, 17, 18, 4, 19, 1]\n",
      "Sequence 3 in x\n",
      "  Input:  This is a short sentence .\n",
      "  Output: [20, 21, 4, 22, 23, 1]\n"
     ]
    }
   ],
   "source": [
    "def tokenize(x):\n",
    "    \"\"\"\n",
    "    Tokenize x\n",
    "    :param x: List of sentences/strings to be tokenized\n",
    "    :return: Tuple of (tokenized x data, tokenizer used to tokenize x)\n",
    "    \"\"\"\n",
    "    # TODO: Implement\n",
    "    \n",
    "    tokenizer = Tokenizer(filters = '')\n",
    "    tokenizer.fit_on_texts(x)\n",
    "    tokenized = tokenizer.texts_to_sequences(x)\n",
    "    \n",
    "    return tokenized, tokenizer\n",
    "tests.test_tokenize(tokenize)\n",
    "\n",
    "# Tokenize Example output\n",
    "text_sentences = [\n",
    "    'The quick brown fox jumps over the lazy dog .',\n",
    "    'By Jove , my quick study of lexicography won a prize .',\n",
    "    'This is a short sentence .']\n",
    "text_tokenized, text_tokenizer = tokenize(text_sentences)\n",
    "print(text_tokenizer.word_index)\n",
    "print()\n",
    "for sample_i, (sent, token_sent) in enumerate(zip(text_sentences, text_tokenized)):\n",
    "    print('Sequence {} in x'.format(sample_i + 1))\n",
    "    print('  Input:  {}'.format(sent))\n",
    "    print('  Output: {}'.format(token_sent))"
   ]
  },
  {
   "cell_type": "markdown",
   "metadata": {},
   "source": [
    "### Padding (IMPLEMENTATION)\n",
    "When batching the sequence of word ids together, each sequence needs to be the same length.  Since sentences are dynamic in length, we can add padding to the end of the sequences to make them the same length.\n",
    "\n",
    "Make sure all the English sequences have the same length and all the French sequences have the same length by adding padding to the **end** of each sequence using Keras's [`pad_sequences`](https://keras.io/preprocessing/sequence/#pad_sequences) function."
   ]
  },
  {
   "cell_type": "code",
   "execution_count": 9,
   "metadata": {},
   "outputs": [
    {
     "name": "stdout",
     "output_type": "stream",
     "text": [
      "Sequence 1 in x\n",
      "  Input:  [ 2  3  5  6  7  8  2  9 10  1]\n",
      "  Output: [ 2  3  5  6  7  8  2  9 10  1  0  0]\n",
      "Sequence 2 in x\n",
      "  Input:  [11 12 13 14  3 15 16 17 18  4 19  1]\n",
      "  Output: [11 12 13 14  3 15 16 17 18  4 19  1]\n",
      "Sequence 3 in x\n",
      "  Input:  [20 21  4 22 23  1]\n",
      "  Output: [20 21  4 22 23  1  0  0  0  0  0  0]\n"
     ]
    }
   ],
   "source": [
    "def pad(x, length=None):\n",
    "    \"\"\"\n",
    "    Pad x\n",
    "    :param x: List of sequences.\n",
    "    :param length: Length to pad the sequence to.  If None, use length of longest sequence in x.\n",
    "    :return: Padded numpy array of sequences\n",
    "    \"\"\"\n",
    "    # TODO: Implement\n",
    "    padded_x = pad_sequences(x, maxlen = length, padding = 'post', truncating = 'post' )\n",
    "    \n",
    "    return padded_x\n",
    "tests.test_pad(pad)\n",
    "\n",
    "# Pad Tokenized output\n",
    "test_pad = pad(text_tokenized)\n",
    "for sample_i, (token_sent, pad_sent) in enumerate(zip(text_tokenized, test_pad)):\n",
    "    print('Sequence {} in x'.format(sample_i + 1))\n",
    "    print('  Input:  {}'.format(np.array(token_sent)))\n",
    "    print('  Output: {}'.format(pad_sent))"
   ]
  },
  {
   "cell_type": "markdown",
   "metadata": {},
   "source": [
    "### Preprocess Pipeline\n",
    "Your focus for this project is to build neural network architecture, so we won't ask you to create a preprocess pipeline.  Instead, we've provided you with the implementation of the `preprocess` function."
   ]
  },
  {
   "cell_type": "code",
   "execution_count": 10,
   "metadata": {},
   "outputs": [
    {
     "name": "stdout",
     "output_type": "stream",
     "text": [
      "Data Preprocessed\n",
      "Max English sentence length: 17\n",
      "Max French sentence length: 23\n",
      "English vocabulary size: 228\n",
      "French vocabulary size: 355\n"
     ]
    }
   ],
   "source": [
    "def preprocess(x, y):\n",
    "    \"\"\"\n",
    "    Preprocess x and y\n",
    "    :param x: Feature List of sentences\n",
    "    :param y: Label List of sentences\n",
    "    :return: Tuple of (Preprocessed x, Preprocessed y, x tokenizer, y tokenizer)\n",
    "    \"\"\"\n",
    "    preprocess_x, x_tk = tokenize(x)\n",
    "    preprocess_y, y_tk = tokenize(y)\n",
    "\n",
    "    preprocess_x = pad(preprocess_x)\n",
    "    preprocess_y = pad(preprocess_y)\n",
    "\n",
    "    # Keras's sparse_categorical_crossentropy function requires the labels to be in 3 dimensions\n",
    "    preprocess_y = preprocess_y.reshape(*preprocess_y.shape, 1)\n",
    "\n",
    "    return preprocess_x, preprocess_y, x_tk, y_tk\n",
    "\n",
    "preproc_english_sentences, preproc_french_sentences, english_tokenizer, french_tokenizer =\\\n",
    "    preprocess(english_sentences, french_sentences)\n",
    "    \n",
    "max_english_sequence_length = preproc_english_sentences.shape[1]\n",
    "max_french_sequence_length = preproc_french_sentences.shape[1]\n",
    "english_vocab_size = len(english_tokenizer.word_index)+1 # add 1 due to padding\n",
    "french_vocab_size = len(french_tokenizer.word_index)+1 # add 1 due to padding\n",
    "\n",
    "print('Data Preprocessed')\n",
    "print(\"Max English sentence length:\", max_english_sequence_length)\n",
    "print(\"Max French sentence length:\", max_french_sequence_length)\n",
    "print(\"English vocabulary size:\", english_vocab_size)\n",
    "print(\"French vocabulary size:\", french_vocab_size)"
   ]
  },
  {
   "cell_type": "markdown",
   "metadata": {},
   "source": [
    "Note that the french_words_counter that was created at the begining of this exercise has 355 keys but french_tokenizer only has 354 keys. Apparently, there is some word missing from the french_tokenizer. Let's find out which is this word:"
   ]
  },
  {
   "cell_type": "code",
   "execution_count": 11,
   "metadata": {},
   "outputs": [
    {
     "name": "stdout",
     "output_type": "stream",
     "text": [
      "Not found in french_tokenizer: États-unis\n"
     ]
    }
   ],
   "source": [
    "not_found = []\n",
    "for word in french_words_counter.keys():\n",
    "    if not word in french_tokenizer.word_index.keys():\n",
    "        print('Not found in french_tokenizer: {}'.format(word))\n",
    "        not_found.append(word)"
   ]
  },
  {
   "cell_type": "markdown",
   "metadata": {},
   "source": [
    "This is perhaps because somehow 'États-unis' starts with an upper-case letter. I guess this is appropriately converted to lower case by the tokenizer and therefore identified with 'états-unis' by the tokenizer. Let's check if this is true."
   ]
  },
  {
   "cell_type": "code",
   "execution_count": 12,
   "metadata": {},
   "outputs": [
    {
     "data": {
      "text/plain": [
       "[[33]]"
      ]
     },
     "execution_count": 12,
     "metadata": {},
     "output_type": "execute_result"
    }
   ],
   "source": [
    "# convert the word in not_found using the french_tokenizer\n",
    "french_tokenizer.texts_to_sequences(not_found)"
   ]
  },
  {
   "cell_type": "markdown",
   "metadata": {},
   "source": [
    "We see that the french_tokenizer assigns an index 33 to the word. Let's see if this is same as the index for 'états-unis'."
   ]
  },
  {
   "cell_type": "code",
   "execution_count": 13,
   "metadata": {},
   "outputs": [
    {
     "data": {
      "text/plain": [
       "[[33]]"
      ]
     },
     "execution_count": 13,
     "metadata": {},
     "output_type": "execute_result"
    }
   ],
   "source": [
    "french_tokenizer.texts_to_sequences(['états-unis'])"
   ]
  },
  {
   "cell_type": "markdown",
   "metadata": {},
   "source": [
    "Voila! We see that indeed  'États-unis' is identified with 'états-unis' by the tokenizer."
   ]
  },
  {
   "cell_type": "markdown",
   "metadata": {},
   "source": [
    "## Models\n",
    "In this section, you will experiment with various neural network architectures.\n",
    "You will begin by training four relatively simple architectures.\n",
    "- Model 1 is a simple RNN\n",
    "- Model 2 is a RNN with Embedding\n",
    "- Model 3 is a Bidirectional RNN\n",
    "- Model 4 is an optional Encoder-Decoder RNN\n",
    "\n",
    "After experimenting with the four simple architectures, you will construct a deeper architecture that is designed to outperform all four models.\n",
    "### Ids Back to Text\n",
    "The neural network will be translating the input to words ids, which isn't the final form we want.  We want the French translation.  The function `logits_to_text` will bridge the gab between the logits from the neural network to the French translation.  You'll be using this function to better understand the output of the neural network."
   ]
  },
  {
   "cell_type": "code",
   "execution_count": 14,
   "metadata": {},
   "outputs": [
    {
     "name": "stdout",
     "output_type": "stream",
     "text": [
      "`logits_to_text` function loaded.\n"
     ]
    }
   ],
   "source": [
    "def logits_to_text(logits, tokenizer):\n",
    "    \"\"\"\n",
    "    Turn logits from a neural network into text using the tokenizer\n",
    "    :param logits: Logits from a neural network\n",
    "    :param tokenizer: Keras Tokenizer fit on the labels\n",
    "    :return: String that represents the text of the logits\n",
    "    \"\"\"\n",
    "    index_to_words = {id: word for word, id in tokenizer.word_index.items()}\n",
    "    index_to_words[0] = '<PAD>'\n",
    "\n",
    "    return ' '.join([index_to_words[prediction] for prediction in np.argmax(logits, 1)])\n",
    "\n",
    "print('`logits_to_text` function loaded.')"
   ]
  },
  {
   "cell_type": "code",
   "execution_count": 15,
   "metadata": {},
   "outputs": [
    {
     "name": "stdout",
     "output_type": "stream",
     "text": [
      "`indices_to_text` function loaded.\n"
     ]
    }
   ],
   "source": [
    "def indices_to_text(idx, tokenizer):\n",
    "    \"\"\"\n",
    "    Turn word indices into text using the tokenizer\n",
    "    :param idx: word indices\n",
    "    :param tokenizer: Keras Tokenizer fit on the labels\n",
    "    :return: String that represents the text of the logits\n",
    "    \"\"\"\n",
    "    index_to_words = {id: word for word, id in tokenizer.word_index.items()}\n",
    "    index_to_words[0] = '<PAD>'\n",
    "\n",
    "    return ' '.join([index_to_words[ind] for ind in idx])\n",
    "\n",
    "print('`indices_to_text` function loaded.')"
   ]
  },
  {
   "cell_type": "markdown",
   "metadata": {},
   "source": [
    "### Model 1: RNN (IMPLEMENTATION)\n",
    "![RNN](images/rnn.png)\n",
    "A basic RNN model is a good baseline for sequence data.  In this model, you'll build a RNN that translates English to French."
   ]
  },
  {
   "cell_type": "code",
   "execution_count": 16,
   "metadata": {},
   "outputs": [
    {
     "name": "stdout",
     "output_type": "stream",
     "text": [
      "WARNING:tensorflow:From /home/prarit/anaconda3/envs/keras/lib/python3.6/site-packages/keras/backend/tensorflow_backend.py:63: The name tf.get_default_graph is deprecated. Please use tf.compat.v1.get_default_graph instead.\n",
      "\n",
      "WARNING:tensorflow:From /home/prarit/anaconda3/envs/keras/lib/python3.6/site-packages/keras/backend/tensorflow_backend.py:488: The name tf.placeholder is deprecated. Please use tf.compat.v1.placeholder instead.\n",
      "\n",
      "WARNING:tensorflow:From /home/prarit/anaconda3/envs/keras/lib/python3.6/site-packages/keras/backend/tensorflow_backend.py:3626: The name tf.random_uniform is deprecated. Please use tf.random.uniform instead.\n",
      "\n",
      "WARNING:tensorflow:From /home/prarit/anaconda3/envs/keras/lib/python3.6/site-packages/keras/backend/tensorflow_backend.py:1238: calling reduce_sum_v1 (from tensorflow.python.ops.math_ops) with keep_dims is deprecated and will be removed in a future version.\n",
      "Instructions for updating:\n",
      "keep_dims is deprecated, use keepdims instead\n",
      "WARNING:tensorflow:From /home/prarit/anaconda3/envs/keras/lib/python3.6/site-packages/keras/backend/tensorflow_backend.py:1204: calling reduce_max_v1 (from tensorflow.python.ops.math_ops) with keep_dims is deprecated and will be removed in a future version.\n",
      "Instructions for updating:\n",
      "keep_dims is deprecated, use keepdims instead\n",
      "WARNING:tensorflow:From /home/prarit/anaconda3/envs/keras/lib/python3.6/site-packages/keras/optimizers.py:711: The name tf.train.Optimizer is deprecated. Please use tf.compat.v1.train.Optimizer instead.\n",
      "\n",
      "WARNING:tensorflow:From /home/prarit/anaconda3/envs/keras/lib/python3.6/site-packages/keras/backend/tensorflow_backend.py:2887: The name tf.log is deprecated. Please use tf.math.log instead.\n",
      "\n",
      "WARNING:tensorflow:From /home/prarit/anaconda3/envs/keras/lib/python3.6/site-packages/tensorflow_core/python/ops/math_grad.py:1424: where (from tensorflow.python.ops.array_ops) is deprecated and will be removed in a future version.\n",
      "Instructions for updating:\n",
      "Use tf.where in 2.0, which has the same broadcast rule as np.where\n",
      "WARNING:tensorflow:From /home/prarit/anaconda3/envs/keras/lib/python3.6/site-packages/keras/backend/tensorflow_backend.py:949: The name tf.assign_add is deprecated. Please use tf.compat.v1.assign_add instead.\n",
      "\n",
      "WARNING:tensorflow:From /home/prarit/anaconda3/envs/keras/lib/python3.6/site-packages/keras/backend/tensorflow_backend.py:671: calling Constant.__init__ (from tensorflow.python.ops.init_ops) with dtype is deprecated and will be removed in a future version.\n",
      "Instructions for updating:\n",
      "Call initializer instance with the dtype argument instead of passing it to the constructor\n",
      "WARNING:tensorflow:From /home/prarit/anaconda3/envs/keras/lib/python3.6/site-packages/keras/backend/tensorflow_backend.py:936: The name tf.assign is deprecated. Please use tf.compat.v1.assign instead.\n",
      "\n",
      "WARNING:tensorflow:From /home/prarit/anaconda3/envs/keras/lib/python3.6/site-packages/keras/backend/tensorflow_backend.py:2353: The name tf.Session is deprecated. Please use tf.compat.v1.Session instead.\n",
      "\n",
      "Train on 110288 samples, validate on 27573 samples\n",
      "Epoch 1/10\n",
      "WARNING:tensorflow:From /home/prarit/anaconda3/envs/keras/lib/python3.6/site-packages/keras/backend/tensorflow_backend.py:158: The name tf.get_default_session is deprecated. Please use tf.compat.v1.get_default_session instead.\n",
      "\n",
      "WARNING:tensorflow:From /home/prarit/anaconda3/envs/keras/lib/python3.6/site-packages/keras/backend/tensorflow_backend.py:163: The name tf.ConfigProto is deprecated. Please use tf.compat.v1.ConfigProto instead.\n",
      "\n",
      "WARNING:tensorflow:From /home/prarit/anaconda3/envs/keras/lib/python3.6/site-packages/keras/backend/tensorflow_backend.py:172: The name tf.global_variables is deprecated. Please use tf.compat.v1.global_variables instead.\n",
      "\n",
      "WARNING:tensorflow:From /home/prarit/anaconda3/envs/keras/lib/python3.6/site-packages/keras/backend/tensorflow_backend.py:180: The name tf.is_variable_initialized is deprecated. Please use tf.compat.v1.is_variable_initialized instead.\n",
      "\n",
      "WARNING:tensorflow:From /home/prarit/anaconda3/envs/keras/lib/python3.6/site-packages/keras/backend/tensorflow_backend.py:187: The name tf.variables_initializer is deprecated. Please use tf.compat.v1.variables_initializer instead.\n",
      "\n",
      "110288/110288 [==============================] - 45s 406us/step - loss: 1.6509 - acc: 0.5766 - val_loss: 1.2640 - val_acc: 0.6239\n",
      "Epoch 2/10\n",
      "110288/110288 [==============================] - 45s 408us/step - loss: 1.1313 - acc: 0.6444 - val_loss: 1.0611 - val_acc: 0.6580\n",
      "Epoch 3/10\n",
      "110288/110288 [==============================] - 45s 404us/step - loss: 1.0433 - acc: 0.6557 - val_loss: 1.0012 - val_acc: 0.6566\n",
      "Epoch 4/10\n",
      "110288/110288 [==============================] - 45s 405us/step - loss: 0.9955 - acc: 0.6641 - val_loss: 0.9576 - val_acc: 0.6747\n",
      "Epoch 5/10\n",
      "110288/110288 [==============================] - 45s 407us/step - loss: 0.9718 - acc: 0.6688 - val_loss: 0.9497 - val_acc: 0.6765\n",
      "Epoch 6/10\n",
      "110288/110288 [==============================] - 45s 408us/step - loss: 0.9503 - acc: 0.6743 - val_loss: 0.9150 - val_acc: 0.6836\n",
      "Epoch 7/10\n",
      "110288/110288 [==============================] - 46s 414us/step - loss: 0.9245 - acc: 0.6815 - val_loss: 1.0757 - val_acc: 0.6532\n",
      "Epoch 8/10\n",
      "110288/110288 [==============================] - 46s 414us/step - loss: 0.9180 - acc: 0.6843 - val_loss: 0.9569 - val_acc: 0.6641\n",
      "Epoch 9/10\n",
      "110288/110288 [==============================] - 46s 415us/step - loss: 0.8869 - acc: 0.6924 - val_loss: 0.8840 - val_acc: 0.6909\n",
      "Epoch 10/10\n",
      "110288/110288 [==============================] - 46s 415us/step - loss: 0.8757 - acc: 0.6962 - val_loss: 0.8644 - val_acc: 0.7051\n",
      "new jersey est parfois chaud en l' de mai , et il est chaud en juillet . <PAD> <PAD> <PAD> <PAD> <PAD> <PAD>\n"
     ]
    }
   ],
   "source": [
    "def simple_model(input_shape, output_sequence_length, english_vocab_size, french_vocab_size):\n",
    "    \"\"\"\n",
    "    Build and train a basic RNN on x and y\n",
    "    :param input_shape: Tuple of input shape\n",
    "    :param output_sequence_length: Length of output sequence\n",
    "    :param english_vocab_size: Number of unique English words in the dataset\n",
    "    :param french_vocab_size: Number of unique French words in the dataset\n",
    "    :return: Keras model built, but not trained\n",
    "    \"\"\"\n",
    "    # TODO: Build the layers\n",
    "    learning_rate = 0.03\n",
    "    GRU_units = 250\n",
    "    \n",
    "    l1 = Input(shape = input_shape[1:])\n",
    "    l2 = GRU(units = GRU_units, return_sequences = True)(l1)\n",
    "    # Dense layer does the TimeDistribution automatically\n",
    "    # So we don't need to wrap it in TimeDistributed\n",
    "    out = Dense(units = french_vocab_size, activation = 'softmax')(l2)\n",
    "    \n",
    "    \n",
    "    model = Model(inputs = l1, outputs = out)\n",
    "    \n",
    "    model.compile(loss=sparse_categorical_crossentropy,\n",
    "                  optimizer=Adam(learning_rate),\n",
    "                  metrics=['accuracy'])\n",
    "    \n",
    "    return model\n",
    "tests.test_simple_model(simple_model)\n",
    "\n",
    "# Reshaping the input to work with a basic RNN\n",
    "# note that the max. length of french sentences is bigger than that in english\n",
    "# so it makes sense to pad the input with max_french_sequence_length\n",
    "# on the other hand had max. length of english sentences been greater, it \n",
    "# would make sense to pad the french sentences with max_english_length \n",
    "tmp_x = pad(preproc_english_sentences, max_french_sequence_length)\n",
    "tmp_x = tmp_x.reshape((-1, preproc_french_sentences.shape[-2], 1))\n",
    "\n",
    "# Train the neural network\n",
    "simple_rnn_model = simple_model(\n",
    "    tmp_x.shape,\n",
    "    max_french_sequence_length,\n",
    "    english_vocab_size,\n",
    "    french_vocab_size)\n",
    "simple_rnn_model.fit(tmp_x, preproc_french_sentences, batch_size=1024, epochs=10, validation_split=0.2)\n",
    "\n",
    "# Print prediction(s)\n",
    "print(logits_to_text(simple_rnn_model.predict(tmp_x[:1])[0], french_tokenizer))"
   ]
  },
  {
   "cell_type": "code",
   "execution_count": 17,
   "metadata": {},
   "outputs": [
    {
     "data": {
      "text/plain": [
       "'new jersey is sometimes quiet during autumn , and it is snowy in april . <PAD> <PAD>'"
      ]
     },
     "execution_count": 17,
     "metadata": {},
     "output_type": "execute_result"
    }
   ],
   "source": [
    "indices_to_text(preproc_english_sentences[0], english_tokenizer)"
   ]
  },
  {
   "cell_type": "code",
   "execution_count": 18,
   "metadata": {},
   "outputs": [
    {
     "data": {
      "text/plain": [
       "\"new jersey est parfois calme pendant l' automne , et il est neigeux en avril . <PAD> <PAD> <PAD> <PAD> <PAD> <PAD> <PAD>\""
      ]
     },
     "execution_count": 18,
     "metadata": {},
     "output_type": "execute_result"
    }
   ],
   "source": [
    "indices_to_text(preproc_french_sentences[0].reshape(-1,), french_tokenizer)"
   ]
  },
  {
   "cell_type": "markdown",
   "metadata": {},
   "source": [
    "### Model 2: Embedding (IMPLEMENTATION)\n",
    "![RNN](images/embedding.png)\n",
    "You've turned the words into ids, but there's a better representation of a word.  This is called word embeddings.  An embedding is a vector representation of the word that is close to similar words in n-dimensional space, where the n represents the size of the embedding vectors.\n",
    "\n",
    "In this model, you'll create a RNN model using embedding."
   ]
  },
  {
   "cell_type": "code",
   "execution_count": 19,
   "metadata": {},
   "outputs": [
    {
     "name": "stdout",
     "output_type": "stream",
     "text": [
      "Train on 110288 samples, validate on 27573 samples\n",
      "Epoch 1/5\n",
      "110288/110288 [==============================] - 49s 447us/step - loss: 1.7410 - acc: 0.6116 - val_loss: 0.6957 - val_acc: 0.7934\n",
      "Epoch 2/5\n",
      "110288/110288 [==============================] - 49s 445us/step - loss: 0.5418 - acc: 0.8324 - val_loss: 0.4314 - val_acc: 0.8643\n",
      "Epoch 3/5\n",
      "110288/110288 [==============================] - 49s 444us/step - loss: 0.3971 - acc: 0.8731 - val_loss: 0.3766 - val_acc: 0.8814\n",
      "Epoch 4/5\n",
      "110288/110288 [==============================] - 48s 439us/step - loss: 0.3432 - acc: 0.8888 - val_loss: 0.3226 - val_acc: 0.8960\n",
      "Epoch 5/5\n",
      "110288/110288 [==============================] - 48s 438us/step - loss: 0.3126 - acc: 0.8983 - val_loss: 0.3085 - val_acc: 0.9009\n",
      "new jersey est parfois calme en l' automne , et il est neigeux en avril . <PAD> <PAD> <PAD> <PAD> <PAD> <PAD> <PAD>\n"
     ]
    }
   ],
   "source": [
    "def embed_model(input_shape, output_sequence_length, english_vocab_size, french_vocab_size):\n",
    "    \"\"\"\n",
    "    Build and train a RNN model using word embedding on x and y\n",
    "    :param input_shape: Tuple of input shape\n",
    "    :param output_sequence_length: Length of output sequence\n",
    "    :param english_vocab_size: Number of unique English words in the dataset\n",
    "    :param french_vocab_size: Number of unique French words in the dataset\n",
    "    :return: Keras model built, but not trained\n",
    "    \"\"\"\n",
    "    # TODO: Implement\n",
    "    embedding_dim = 70\n",
    "    GRU_units = 250\n",
    "    learning_rate = 0.03\n",
    "    \n",
    "    l1 = Input(shape = (input_shape[1],))\n",
    "    l2 = Embedding(input_dim = english_vocab_size, \n",
    "                   output_dim = embedding_dim, \n",
    "                   input_length = input_shape[1])(l1)\n",
    "    l3 = GRU(units = GRU_units, return_sequences = True)(l2)\n",
    "    out = Dense(units = french_vocab_size, activation = 'softmax')(l3)\n",
    "    \n",
    "    model = Model(inputs = l1, outputs = out)\n",
    "    \n",
    "    model.compile(optimizer = Adam(learning_rate), \n",
    "                  loss = sparse_categorical_crossentropy, metrics = ['accuracy'])\n",
    "    \n",
    "    return model\n",
    "tests.test_embed_model(embed_model)\n",
    "\n",
    "\n",
    "# TODO: Reshape the input\n",
    "tmp_x = pad(preproc_english_sentences, max_french_sequence_length)\n",
    "embd_model = embed_model(tmp_x.shape, \n",
    "                         max_french_sequence_length, \n",
    "                         english_vocab_size, french_vocab_size ) \n",
    "\n",
    "# TODO: Train the neural network\n",
    "\n",
    "embd_model.fit(tmp_x, preproc_french_sentences, epochs = 5, \n",
    "               batch_size = 1024, validation_split = 0.2 )\n",
    "\n",
    "# TODO: Print prediction(s)\n",
    "# I noticed that the accuracy of the model on the validation set started dropping after 5 epochs\n",
    "# so we will only train it for 5 epochs\n",
    "print(logits_to_text(embd_model.predict(tmp_x[:1])[0], french_tokenizer))"
   ]
  },
  {
   "cell_type": "code",
   "execution_count": 20,
   "metadata": {},
   "outputs": [
    {
     "data": {
      "text/plain": [
       "'new jersey is sometimes quiet during autumn , and it is snowy in april . <PAD> <PAD>'"
      ]
     },
     "execution_count": 20,
     "metadata": {},
     "output_type": "execute_result"
    }
   ],
   "source": [
    "indices_to_text(preproc_english_sentences[0], english_tokenizer)"
   ]
  },
  {
   "cell_type": "code",
   "execution_count": 21,
   "metadata": {},
   "outputs": [
    {
     "data": {
      "text/plain": [
       "\"new jersey est parfois calme pendant l' automne , et il est neigeux en avril . <PAD> <PAD> <PAD> <PAD> <PAD> <PAD> <PAD>\""
      ]
     },
     "execution_count": 21,
     "metadata": {},
     "output_type": "execute_result"
    }
   ],
   "source": [
    "indices_to_text(preproc_french_sentences[0].reshape(-1,), french_tokenizer)"
   ]
  },
  {
   "cell_type": "markdown",
   "metadata": {},
   "source": [
    "### Model 3: Bidirectional RNNs (IMPLEMENTATION)\n",
    "![RNN](images/bidirectional.png)\n",
    "One restriction of a RNN is that it can't see the future input, only the past.  This is where bidirectional recurrent neural networks come in.  They are able to see the future data."
   ]
  },
  {
   "cell_type": "code",
   "execution_count": 22,
   "metadata": {},
   "outputs": [
    {
     "name": "stdout",
     "output_type": "stream",
     "text": [
      "Train on 110288 samples, validate on 27573 samples\n",
      "Epoch 1/9\n",
      "110288/110288 [==============================] - 86s 776us/step - loss: 1.3958 - acc: 0.6275 - val_loss: 1.0098 - val_acc: 0.6663\n",
      "Epoch 2/9\n",
      "110288/110288 [==============================] - 84s 763us/step - loss: 0.9276 - acc: 0.6851 - val_loss: 0.8654 - val_acc: 0.6949\n",
      "Epoch 3/9\n",
      "110288/110288 [==============================] - 81s 737us/step - loss: 0.8210 - acc: 0.7037 - val_loss: 0.7694 - val_acc: 0.7180\n",
      "Epoch 4/9\n",
      "110288/110288 [==============================] - 81s 733us/step - loss: 0.7435 - acc: 0.7254 - val_loss: 0.7182 - val_acc: 0.7369\n",
      "Epoch 5/9\n",
      "110288/110288 [==============================] - 80s 721us/step - loss: 0.6650 - acc: 0.7565 - val_loss: 0.6313 - val_acc: 0.7729\n",
      "Epoch 6/9\n",
      "110288/110288 [==============================] - 78s 712us/step - loss: 0.6196 - acc: 0.7758 - val_loss: 0.6069 - val_acc: 0.7738\n",
      "Epoch 7/9\n",
      "110288/110288 [==============================] - 78s 703us/step - loss: 0.5696 - acc: 0.7946 - val_loss: 0.5206 - val_acc: 0.8200\n",
      "Epoch 8/9\n",
      "110288/110288 [==============================] - 76s 692us/step - loss: 0.5401 - acc: 0.8075 - val_loss: 0.4666 - val_acc: 0.8388\n",
      "Epoch 9/9\n",
      "110288/110288 [==============================] - 76s 689us/step - loss: 0.5479 - acc: 0.7985 - val_loss: 0.5558 - val_acc: 0.7939\n",
      "new jersey est parfois parfois au mois de l' il est neigeux en juillet . <PAD> <PAD> <PAD> <PAD> <PAD> <PAD> <PAD> <PAD>\n"
     ]
    }
   ],
   "source": [
    "def bd_model(input_shape, output_sequence_length, english_vocab_size, french_vocab_size):\n",
    "    \"\"\"\n",
    "    Build and train a bidirectional RNN model on x and y\n",
    "    :param input_shape: Tuple of input shape\n",
    "    :param output_sequence_length: Length of output sequence\n",
    "    :param english_vocab_size: Number of unique English words in the dataset\n",
    "    :param french_vocab_size: Number of unique French words in the dataset\n",
    "    :return: Keras model built, but not trained\n",
    "    \"\"\"\n",
    "    # TODO: Implement\n",
    "    learning_rate = 0.005\n",
    "    GRU_units = 250\n",
    "    bi_mode = 'mul'\n",
    "    hidden_units = 500\n",
    "    \n",
    "    l1 = Input(shape = input_shape[1:])\n",
    "    l2 = Bidirectional(GRU(units = GRU_units, return_sequences = True), \n",
    "                       merge_mode = bi_mode)(l1)\n",
    "    l3 = Dense(units = hidden_units, activation = 'elu')(l2)\n",
    "    out = Dense(units = french_vocab_size, activation = 'softmax')(l3)\n",
    "    \n",
    "    model = Model(inputs = l1, outputs = out)\n",
    "    \n",
    "    model.compile(optimizer = Adam(learning_rate), \n",
    "                  loss = sparse_categorical_crossentropy, \n",
    "                  metrics = ['accuracy'])\n",
    "    \n",
    "    \n",
    "    return model\n",
    "tests.test_bd_model(bd_model)\n",
    "\n",
    "\n",
    "# TODO: Train and Print prediction(s)\n",
    "tmp_x = pad(preproc_english_sentences, max_french_sequence_length)\n",
    "tmp_x = tmp_x.reshape(-1, max_french_sequence_length, 1)\n",
    "bidir_model = bd_model(tmp_x.shape, max_french_sequence_length, \n",
    "                       english_vocab_size, french_vocab_size)\n",
    "# this model seems to start overfitting after 9 epochs\n",
    "bidir_model.fit(tmp_x, preproc_french_sentences, epochs = 9, batch_size = 512, \n",
    "                validation_split = 0.2)\n",
    "\n",
    "# print a prediction\n",
    "print(logits_to_text(bidir_model.predict(tmp_x[:1])[0], french_tokenizer))"
   ]
  },
  {
   "cell_type": "code",
   "execution_count": 23,
   "metadata": {},
   "outputs": [
    {
     "data": {
      "text/plain": [
       "'new jersey is sometimes quiet during autumn , and it is snowy in april . <PAD> <PAD>'"
      ]
     },
     "execution_count": 23,
     "metadata": {},
     "output_type": "execute_result"
    }
   ],
   "source": [
    "indices_to_text(preproc_english_sentences[0], english_tokenizer)"
   ]
  },
  {
   "cell_type": "code",
   "execution_count": 24,
   "metadata": {},
   "outputs": [
    {
     "data": {
      "text/plain": [
       "\"new jersey est parfois calme pendant l' automne , et il est neigeux en avril . <PAD> <PAD> <PAD> <PAD> <PAD> <PAD> <PAD>\""
      ]
     },
     "execution_count": 24,
     "metadata": {},
     "output_type": "execute_result"
    }
   ],
   "source": [
    "indices_to_text(preproc_french_sentences[0].reshape(-1,), french_tokenizer)"
   ]
  },
  {
   "cell_type": "markdown",
   "metadata": {},
   "source": [
    "### Model 4: Encoder-Decoder (OPTIONAL)\n",
    "Time to look at encoder-decoder models.  This model is made up of an encoder and decoder. The encoder creates a matrix representation of the sentence.  The decoder takes this matrix as input and predicts the translation as output.\n",
    "\n",
    "Create an encoder-decoder model in the cell below."
   ]
  },
  {
   "cell_type": "code",
   "execution_count": 25,
   "metadata": {},
   "outputs": [],
   "source": [
    "from keras.layers import Reshape"
   ]
  },
  {
   "cell_type": "code",
   "execution_count": 26,
   "metadata": {},
   "outputs": [
    {
     "name": "stdout",
     "output_type": "stream",
     "text": [
      "Train on 110288 samples, validate on 27573 samples\n",
      "Epoch 1/10\n",
      "110288/110288 [==============================] - 559s 5ms/step - loss: 1.0938 - acc: 0.7020 - val_loss: 0.5949 - val_acc: 0.8172\n",
      "Epoch 2/10\n",
      "110288/110288 [==============================] - 574s 5ms/step - loss: 0.3881 - acc: 0.8775 - val_loss: 0.2831 - val_acc: 0.9059\n",
      "Epoch 3/10\n",
      "110288/110288 [==============================] - 578s 5ms/step - loss: 0.2246 - acc: 0.9258 - val_loss: 0.1944 - val_acc: 0.9366\n",
      "Epoch 4/10\n",
      "110288/110288 [==============================] - 576s 5ms/step - loss: 0.1722 - acc: 0.9431 - val_loss: 0.1702 - val_acc: 0.9451\n",
      "Epoch 5/10\n",
      "110288/110288 [==============================] - 576s 5ms/step - loss: 0.1369 - acc: 0.9553 - val_loss: 0.1322 - val_acc: 0.9575\n",
      "Epoch 6/10\n",
      "110288/110288 [==============================] - 576s 5ms/step - loss: 0.1141 - acc: 0.9627 - val_loss: 0.1170 - val_acc: 0.9628\n",
      "Epoch 7/10\n",
      "110288/110288 [==============================] - 581s 5ms/step - loss: 0.1006 - acc: 0.9677 - val_loss: 0.1064 - val_acc: 0.9669\n",
      "Epoch 8/10\n",
      "110288/110288 [==============================] - 579s 5ms/step - loss: 0.0865 - acc: 0.9725 - val_loss: 0.1055 - val_acc: 0.9682\n",
      "Epoch 9/10\n",
      "110288/110288 [==============================] - 568s 5ms/step - loss: 0.0802 - acc: 0.9747 - val_loss: 0.1181 - val_acc: 0.9656\n",
      "Epoch 10/10\n",
      "110288/110288 [==============================] - 565s 5ms/step - loss: 0.0690 - acc: 0.9784 - val_loss: 0.0860 - val_acc: 0.9745\n",
      "new jersey est parfois calme pendant l' automne , il il est en en avril . <PAD> <PAD> <PAD> <PAD> <PAD> <PAD> <PAD>\n"
     ]
    }
   ],
   "source": [
    "def encdec_model(input_shape, output_sequence_length, english_vocab_size, french_vocab_size):\n",
    "    \"\"\"\n",
    "    Build and train an encoder-decoder model on x and y\n",
    "    :param input_shape: Tuple of input shape\n",
    "    :param output_sequence_length: Length of output sequence\n",
    "    :param english_vocab_size: Number of unique English words in the dataset\n",
    "    :param french_vocab_size: Number of unique French words in the dataset\n",
    "    :return: Keras model built, but not trained\n",
    "    \"\"\"\n",
    "    \n",
    "    # the model here is based on the encoder-decoder configuration suggested \n",
    "    # in the following blog\n",
    "    # https://machinelearningmastery.com/encoder-decoder-long-short-term-memory-networks/\n",
    "    # The idea is that for each timestep of the decoder, we feed it \n",
    "    # the final output produced by the decoder\n",
    "    # This essentially means that we feed the same input vector to the decoder at each time step\n",
    "    \n",
    "    # OPTIONAL: Implement\n",
    "    learning_rate = 0.0005\n",
    "    embedding_dim = 70\n",
    "    gru_units = 500\n",
    "    dec_hidden_units = 700\n",
    "    \n",
    "    enc_input = Input(shape = input_shape[1:])\n",
    "    reshaped = Reshape(target_shape = (input_shape[1],))(enc_input)\n",
    "    embedding = Embedding(input_dim = english_vocab_size, \n",
    "                          output_dim = embedding_dim, \n",
    "                          input_length = input_shape[1])(reshaped)\n",
    "    enc_gru, enc_gru_state = GRU(units = gru_units,\n",
    "                                 return_sequences = False,\n",
    "                                 return_state = True,\n",
    "                                 go_backwards = True)(embedding)\n",
    "    enc_out = RepeatVector(output_sequence_length)(enc_gru)\n",
    "    \n",
    "    dec_gru = GRU(units = gru_units, \n",
    "                 return_sequences = True)(enc_out, initial_state = enc_gru_state)\n",
    "    dec_dense = Dense(units = dec_hidden_units, activation = 'selu')(dec_gru)\n",
    "    dec_out = Dense(units = french_vocab_size, activation = 'softmax' )(dec_dense)\n",
    "    \n",
    "    model = Model(inputs = enc_input, outputs = dec_out)\n",
    "    \n",
    "    model.compile(optimizer = Adam(learning_rate), \n",
    "                  loss = sparse_categorical_crossentropy, \n",
    "                  metrics = ['accuracy'])\n",
    "    \n",
    "    \n",
    "    \n",
    "    \n",
    "    \n",
    "    return model\n",
    "tests.test_encdec_model(encdec_model)\n",
    "\n",
    "\n",
    "# OPTIONAL: Train and Print prediction(s)\n",
    "# no need to pad the english sentences to have the same length as \n",
    "# the max_len of french sentences\n",
    "# just reshape\n",
    "#tmp_x = preproc_english_sentences[...,np.newaxis]\n",
    "tmp_x = preproc_english_sentences\n",
    "\n",
    "encdec = encdec_model(tmp_x.shape, max_french_sequence_length, \n",
    "                      english_vocab_size, french_vocab_size)\n",
    "\n",
    "# training the model\n",
    "encdec.fit(tmp_x, preproc_french_sentences, batch_size = 32, \n",
    "           epochs = 10, validation_split = 0.2)\n",
    "\n",
    "#prediction\n",
    "print(logits_to_text(encdec.predict(tmp_x[:1])[0], french_tokenizer))"
   ]
  },
  {
   "cell_type": "code",
   "execution_count": 27,
   "metadata": {},
   "outputs": [
    {
     "data": {
      "text/plain": [
       "'new jersey is sometimes quiet during autumn , and it is snowy in april . <PAD> <PAD>'"
      ]
     },
     "execution_count": 27,
     "metadata": {},
     "output_type": "execute_result"
    }
   ],
   "source": [
    "indices_to_text(preproc_english_sentences[0], english_tokenizer)"
   ]
  },
  {
   "cell_type": "code",
   "execution_count": 28,
   "metadata": {},
   "outputs": [
    {
     "data": {
      "text/plain": [
       "\"new jersey est parfois calme pendant l' automne , et il est neigeux en avril . <PAD> <PAD> <PAD> <PAD> <PAD> <PAD> <PAD>\""
      ]
     },
     "execution_count": 28,
     "metadata": {},
     "output_type": "execute_result"
    }
   ],
   "source": [
    "indices_to_text(preproc_french_sentences[0].reshape(-1,), french_tokenizer)"
   ]
  },
  {
   "cell_type": "markdown",
   "metadata": {},
   "source": [
    "### Model 5: Custom (IMPLEMENTATION)\n",
    "Use everything you learned from the previous models to create a model that incorporates embedding and a bidirectional rnn into one model."
   ]
  },
  {
   "cell_type": "code",
   "execution_count": 29,
   "metadata": {},
   "outputs": [],
   "source": [
    "from keras.layers import Multiply"
   ]
  },
  {
   "cell_type": "code",
   "execution_count": 30,
   "metadata": {
    "scrolled": false
   },
   "outputs": [
    {
     "name": "stdout",
     "output_type": "stream",
     "text": [
      "Final Model Loaded\n",
      "Train on 110288 samples, validate on 27573 samples\n",
      "Epoch 1/10\n",
      "110288/110288 [==============================] - 680s 6ms/step - loss: 1.3380 - acc: 0.6521 - val_loss: 0.7202 - val_acc: 0.7796\n",
      "Epoch 2/10\n",
      "110288/110288 [==============================] - 681s 6ms/step - loss: 0.4626 - acc: 0.8580 - val_loss: 0.3007 - val_acc: 0.9074\n",
      "Epoch 3/10\n",
      "110288/110288 [==============================] - 688s 6ms/step - loss: 0.2433 - acc: 0.9233 - val_loss: 0.2016 - val_acc: 0.9363\n",
      "Epoch 4/10\n",
      "110288/110288 [==============================] - 683s 6ms/step - loss: 0.1784 - acc: 0.9437 - val_loss: 0.1710 - val_acc: 0.9464\n",
      "Epoch 5/10\n",
      "110288/110288 [==============================] - 674s 6ms/step - loss: 0.1408 - acc: 0.9560 - val_loss: 0.1486 - val_acc: 0.9549\n",
      "Epoch 6/10\n",
      "110288/110288 [==============================] - 674s 6ms/step - loss: 0.1198 - acc: 0.9630 - val_loss: 0.1204 - val_acc: 0.9632\n",
      "Epoch 7/10\n",
      "110288/110288 [==============================] - 676s 6ms/step - loss: 0.1033 - acc: 0.9685 - val_loss: 0.1104 - val_acc: 0.9667\n",
      "Epoch 8/10\n",
      "110288/110288 [==============================] - 720s 7ms/step - loss: 0.0908 - acc: 0.9722 - val_loss: 0.0981 - val_acc: 0.9712\n",
      "Epoch 9/10\n",
      "110288/110288 [==============================] - 765s 7ms/step - loss: 0.0824 - acc: 0.9754 - val_loss: 0.0927 - val_acc: 0.9744\n",
      "Epoch 10/10\n",
      "110288/110288 [==============================] - 749s 7ms/step - loss: 0.0716 - acc: 0.9786 - val_loss: 0.0887 - val_acc: 0.9753\n"
     ]
    },
    {
     "data": {
      "text/plain": [
       "<keras.callbacks.History at 0x7fd504025b70>"
      ]
     },
     "execution_count": 30,
     "metadata": {},
     "output_type": "execute_result"
    }
   ],
   "source": [
    "def model_final(input_shape, output_sequence_length, english_vocab_size, french_vocab_size):\n",
    "    \"\"\"\n",
    "    Build and train a model that incorporates embedding, encoder-decoder, and bidirectional RNN on x and y\n",
    "    :param input_shape: Tuple of input shape\n",
    "    :param output_sequence_length: Length of output sequence\n",
    "    :param english_vocab_size: Number of unique English words in the dataset\n",
    "    :param french_vocab_size: Number of unique French words in the dataset\n",
    "    :return: Keras model built, but not trained\n",
    "    \"\"\"\n",
    "    # TODO: Implement\n",
    "    learning_rate = 0.0005\n",
    "    gru_units = 500\n",
    "    bi_mode = 'mul'\n",
    "    hidden_units = 700\n",
    "    embedding_dim = 70\n",
    "    \n",
    "    enc_in = Input(shape = (input_shape[1],))\n",
    "    embed = Embedding(input_dim = english_vocab_size, \n",
    "                   output_dim = embedding_dim,\n",
    "                   input_length = input_shape[1])(enc_in)\n",
    "    enc_gru = Bidirectional(GRU(units = gru_units, \n",
    "                                               return_sequences = False),\n",
    "                                          merge_mode = bi_mode)(embed)\n",
    "    dec_input = RepeatVector(output_sequence_length)(enc_gru)\n",
    "    dec_gru = GRU(units = gru_units, \n",
    "                  return_sequences = True)(dec_input)\n",
    "    hidden = Dense(units = hidden_units, activation = 'selu')(dec_gru)\n",
    "    out = Dense(units = french_vocab_size, activation = 'softmax')(hidden)\n",
    "    \n",
    "    model = Model(inputs = enc_in, outputs = out)\n",
    "    \n",
    "    model.compile(optimizer = Adam(learning_rate), \n",
    "                  loss = sparse_categorical_crossentropy, \n",
    "                  metrics = ['accuracy'])\n",
    "    \n",
    "    \n",
    "    \n",
    "    return model\n",
    "tests.test_model_final(model_final)\n",
    "\n",
    "\n",
    "print('Final Model Loaded')\n",
    "# TODO: Train the final model\n",
    "tmp_x = preproc_english_sentences\n",
    "\n",
    "fin_model = model_final(tmp_x.shape, max_french_sequence_length, \n",
    "                        english_vocab_size, french_vocab_size)\n",
    "\n",
    "fin_model.fit(tmp_x, preproc_french_sentences, \n",
    "              batch_size = 32, epochs = 10, validation_split = 0.2)"
   ]
  },
  {
   "cell_type": "code",
   "execution_count": 31,
   "metadata": {},
   "outputs": [
    {
     "name": "stdout",
     "output_type": "stream",
     "text": [
      "new jersey est parfois calme pendant l' automne , et il est neigeux en avril . <PAD> <PAD> <PAD> <PAD> <PAD> <PAD> <PAD>\n"
     ]
    }
   ],
   "source": [
    "#prediction\n",
    "print(logits_to_text(fin_model.predict(tmp_x[:1])[0], french_tokenizer))"
   ]
  },
  {
   "cell_type": "markdown",
   "metadata": {},
   "source": [
    "## Prediction (IMPLEMENTATION)"
   ]
  },
  {
   "cell_type": "code",
   "execution_count": 32,
   "metadata": {},
   "outputs": [
    {
     "name": "stdout",
     "output_type": "stream",
     "text": [
      "Sample 1:\n",
      "il a vu un vieux camion jaune . <PAD> <PAD> <PAD> <PAD> <PAD> <PAD> <PAD> <PAD> <PAD> <PAD> <PAD> <PAD> <PAD> <PAD> <PAD>\n",
      "Il a vu un vieux camion jaune\n",
      "Sample 2:\n",
      "new jersey est parfois calme pendant l' automne , et il est neigeux en avril . <PAD> <PAD> <PAD> <PAD> <PAD> <PAD> <PAD>\n",
      "new jersey est parfois calme pendant l' automne , et il est neigeux en avril . <PAD> <PAD> <PAD> <PAD> <PAD> <PAD> <PAD>\n"
     ]
    }
   ],
   "source": [
    "def final_predictions(x, y, x_tk, y_tk):\n",
    "    \"\"\"\n",
    "    Gets predictions using the final model\n",
    "    :param x: Preprocessed English data\n",
    "    :param y: Preprocessed French data\n",
    "    :param x_tk: English tokenizer\n",
    "    :param y_tk: French tokenizer\n",
    "    \"\"\"\n",
    "    # TODO: Train neural network using model_final\n",
    "    # I already trained it in the cell above\n",
    "    model = fin_model\n",
    "\n",
    "    \n",
    "    ## DON'T EDIT ANYTHING BELOW THIS LINE\n",
    "    y_id_to_word = {value: key for key, value in y_tk.word_index.items()}\n",
    "    y_id_to_word[0] = '<PAD>'\n",
    "\n",
    "    sentence = 'he saw a old yellow truck'\n",
    "    sentence = [x_tk.word_index[word] for word in sentence.split()]\n",
    "    sentence = pad_sequences([sentence], maxlen=x.shape[-1], padding='post')\n",
    "    sentences = np.array([sentence[0], x[0]])\n",
    "    predictions = model.predict(sentences, len(sentences))\n",
    "\n",
    "    print('Sample 1:')\n",
    "    print(' '.join([y_id_to_word[np.argmax(x)] for x in predictions[0]]))\n",
    "    print('Il a vu un vieux camion jaune')\n",
    "    print('Sample 2:')\n",
    "    print(' '.join([y_id_to_word[np.argmax(x)] for x in predictions[1]]))\n",
    "    print(' '.join([y_id_to_word[np.max(x)] for x in y[0]]))\n",
    "\n",
    "\n",
    "final_predictions(preproc_english_sentences, preproc_french_sentences, english_tokenizer, french_tokenizer)"
   ]
  },
  {
   "cell_type": "markdown",
   "metadata": {},
   "source": [
    "## Submission\n",
    "When you're ready to submit, complete the following steps:\n",
    "1. Review the [rubric](https://review.udacity.com/#!/rubrics/1004/view) to ensure your submission meets all requirements to pass\n",
    "2. Generate an HTML version of this notebook\n",
    "\n",
    "  - Run the next cell to attempt automatic generation (this is the recommended method in Workspaces)\n",
    "  - Navigate to **FILE -> Download as -> HTML (.html)**\n",
    "  - Manually generate a copy using `nbconvert` from your shell terminal\n",
    "```\n",
    "$ pip install nbconvert\n",
    "$ python -m nbconvert machine_translation.ipynb\n",
    "```\n",
    "  \n",
    "3. Submit the project\n",
    "\n",
    "  - If you are in a Workspace, simply click the \"Submit Project\" button (bottom towards the right)\n",
    "  \n",
    "  - Otherwise, add the following files into a zip archive and submit them \n",
    "  - `helper.py`\n",
    "  - `machine_translation.ipynb`\n",
    "  - `machine_translation.html`\n",
    "    - You can export the notebook by navigating to **File -> Download as -> HTML (.html)**."
   ]
  },
  {
   "cell_type": "code",
   "execution_count": 34,
   "metadata": {},
   "outputs": [
    {
     "data": {
      "text/plain": [
       "['[NbConvertApp] Converting notebook machine_translation.ipynb to html',\n",
       " '[NbConvertApp] Writing 391531 bytes to machine_translation.html']"
      ]
     },
     "execution_count": 34,
     "metadata": {},
     "output_type": "execute_result"
    }
   ],
   "source": [
    "!!python -m nbconvert *.ipynb"
   ]
  },
  {
   "cell_type": "markdown",
   "metadata": {},
   "source": [
    "## Optional Enhancements\n",
    "\n",
    "This project focuses on learning various network architectures for machine translation, but we don't evaluate the models according to best practices by splitting the data into separate test & training sets -- so the model accuracy is overstated. Use the [`sklearn.model_selection.train_test_split()`](http://scikit-learn.org/stable/modules/generated/sklearn.model_selection.train_test_split.html) function to create separate training & test datasets, then retrain each of the models using only the training set and evaluate the prediction accuracy using the hold out test set. Does the \"best\" model change?"
   ]
  }
 ],
 "metadata": {
  "kernelspec": {
   "display_name": "Python [conda env:keras]",
   "language": "python",
   "name": "conda-env-keras-py"
  },
  "language_info": {
   "codemirror_mode": {
    "name": "ipython",
    "version": 3
   },
   "file_extension": ".py",
   "mimetype": "text/x-python",
   "name": "python",
   "nbconvert_exporter": "python",
   "pygments_lexer": "ipython3",
   "version": "3.6.10"
  }
 },
 "nbformat": 4,
 "nbformat_minor": 1
}
